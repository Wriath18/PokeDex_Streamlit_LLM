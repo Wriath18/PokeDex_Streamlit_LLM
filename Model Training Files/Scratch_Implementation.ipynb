{
 "cells": [
  {
   "cell_type": "code",
   "execution_count": 3,
   "metadata": {},
   "outputs": [],
   "source": [
    "import numpy as np\n",
    "import matplotlib.pyplot as plt\n",
    "import pandas as pd\n",
    "import keras\n",
    "from tensorflow.keras.preprocessing import image\n",
    "from pathlib import Path\n",
    "import random\n",
    "from tensorflow.keras.preprocessing.image import ImageDataGenerator"
   ]
  },
  {
   "cell_type": "code",
   "execution_count": 6,
   "metadata": {},
   "outputs": [],
   "source": [
    "p = Path('./train/')\n",
    "dirs = p.glob('*')"
   ]
  },
  {
   "cell_type": "code",
   "execution_count": 7,
   "metadata": {},
   "outputs": [
    {
     "name": "stdout",
     "output_type": "stream",
     "text": [
      "train\\Aerodactyl\n",
      "train\\Bulbasaur\n",
      "train\\Charmander\n",
      "train\\Dratini\n",
      "train\\Fearow\n",
      "train\\Meowth\n",
      "train\\Pikachu\n",
      "train\\Psyduck\n",
      "train\\Spearow\n",
      "train\\Squirtle\n"
     ]
    }
   ],
   "source": [
    "for d in dirs:\n",
    "    print(d)"
   ]
  },
  {
   "cell_type": "code",
   "execution_count": 9,
   "metadata": {},
   "outputs": [],
   "source": [
    "path = \"./train/\"\n",
    "\n",
    "train_generator = ImageDataGenerator(\n",
    "    rescale = 1./255,\n",
    "    rotation_range = 20,\n",
    "    width_shift_range = 0.2,\n",
    "    height_shift_range = 0.2,\n",
    "    shear_range = 0.2,\n",
    "    zoom_range = 0.2, \n",
    "    horizontal_flip = True,\n",
    "    fill_mode='nearest'\n",
    ")"
   ]
  },
  {
   "cell_type": "code",
   "execution_count": 10,
   "metadata": {},
   "outputs": [
    {
     "name": "stdout",
     "output_type": "stream",
     "text": [
      "Found 1642 images belonging to 10 classes.\n"
     ]
    }
   ],
   "source": [
    "train_datagenerator = train_generator.flow_from_directory(\n",
    "    path,\n",
    "    target_size = (227,227),\n",
    "    batch_size = 32,\n",
    "    class_mode = 'categorical'\n",
    ")"
   ]
  },
  {
   "cell_type": "code",
   "execution_count": 14,
   "metadata": {},
   "outputs": [],
   "source": [
    "from tensorflow.keras.models import Sequential\n",
    "from tensorflow.keras.layers import Conv2D, MaxPooling2D, Flatten, Dropout, Dense\n"
   ]
  },
  {
   "cell_type": "code",
   "execution_count": 15,
   "metadata": {},
   "outputs": [
    {
     "name": "stdout",
     "output_type": "stream",
     "text": [
      "Model: \"sequential_1\"\n",
      "_________________________________________________________________\n",
      " Layer (type)                Output Shape              Param #   \n",
      "=================================================================\n",
      " conv2d_5 (Conv2D)           (None, 55, 55, 96)        34944     \n",
      "                                                                 \n",
      " max_pooling2d_3 (MaxPooling  (None, 27, 27, 96)       0         \n",
      " 2D)                                                             \n",
      "                                                                 \n",
      " conv2d_6 (Conv2D)           (None, 27, 27, 256)       614656    \n",
      "                                                                 \n",
      " max_pooling2d_4 (MaxPooling  (None, 13, 13, 256)      0         \n",
      " 2D)                                                             \n",
      "                                                                 \n",
      " conv2d_7 (Conv2D)           (None, 13, 13, 384)       885120    \n",
      "                                                                 \n",
      " conv2d_8 (Conv2D)           (None, 13, 13, 384)       1327488   \n",
      "                                                                 \n",
      " conv2d_9 (Conv2D)           (None, 13, 13, 256)       884992    \n",
      "                                                                 \n",
      " max_pooling2d_5 (MaxPooling  (None, 6, 6, 256)        0         \n",
      " 2D)                                                             \n",
      "                                                                 \n",
      " flatten_1 (Flatten)         (None, 9216)              0         \n",
      "                                                                 \n",
      " dense_3 (Dense)             (None, 4096)              37752832  \n",
      "                                                                 \n",
      " dropout_2 (Dropout)         (None, 4096)              0         \n",
      "                                                                 \n",
      " dense_4 (Dense)             (None, 4096)              16781312  \n",
      "                                                                 \n",
      " dropout_3 (Dropout)         (None, 4096)              0         \n",
      "                                                                 \n",
      " dense_5 (Dense)             (None, 10)                40970     \n",
      "                                                                 \n",
      "=================================================================\n",
      "Total params: 58,322,314\n",
      "Trainable params: 58,322,314\n",
      "Non-trainable params: 0\n",
      "_________________________________________________________________\n"
     ]
    }
   ],
   "source": [
    "model = Sequential([\n",
    "    Conv2D(96, (11, 11), strides=(4, 4), activation='relu', input_shape=(227, 227, 3)),\n",
    "    MaxPooling2D((3, 3), strides=(2, 2)),\n",
    "    \n",
    "    Conv2D(256, (5, 5), padding='same', activation='relu'),\n",
    "    MaxPooling2D((3, 3), strides=(2, 2)),\n",
    "    \n",
    "    Conv2D(384, (3, 3), padding='same', activation='relu'),\n",
    "    Conv2D(384, (3, 3), padding='same', activation='relu'),\n",
    "    Conv2D(256, (3, 3), padding='same', activation='relu'),\n",
    "    MaxPooling2D((3, 3), strides=(2, 2)),\n",
    "    \n",
    "    Flatten(),\n",
    "    Dense(4096, activation='relu'),\n",
    "    Dropout(0.5),\n",
    "    Dense(4096, activation='relu'),\n",
    "    Dropout(0.5),\n",
    "    Dense(10, activation='softmax')  # 10 classes for the 10 Pokémon types\n",
    "])\n",
    "\n",
    "model.compile(optimizer='adam', loss='categorical_crossentropy', metrics=['accuracy'])\n",
    "model.summary()"
   ]
  },
  {
   "cell_type": "code",
   "execution_count": 17,
   "metadata": {},
   "outputs": [
    {
     "name": "stdout",
     "output_type": "stream",
     "text": [
      "Epoch 1/50\n",
      " 4/51 [=>............................] - ETA: 1:32 - loss: 22.0509 - accuracy: 0.1562"
     ]
    },
    {
     "name": "stderr",
     "output_type": "stream",
     "text": [
      "c:\\Users\\sanid\\AppData\\Local\\Programs\\Python\\Python310\\lib\\site-packages\\PIL\\Image.py:1000: UserWarning: Palette images with Transparency expressed in bytes should be converted to RGBA images\n",
      "  warnings.warn(\n"
     ]
    },
    {
     "name": "stdout",
     "output_type": "stream",
     "text": [
      "51/51 [==============================] - 77s 1s/step - loss: 3.8151 - accuracy: 0.1547\n",
      "Epoch 2/50\n",
      "51/51 [==============================] - 74s 1s/step - loss: 2.1263 - accuracy: 0.1876\n",
      "Epoch 3/50\n",
      "51/51 [==============================] - 75s 1s/step - loss: 1.9423 - accuracy: 0.2932\n",
      "Epoch 4/50\n",
      "51/51 [==============================] - 73s 1s/step - loss: 1.8501 - accuracy: 0.3112\n",
      "Epoch 5/50\n",
      "51/51 [==============================] - 74s 1s/step - loss: 1.7453 - accuracy: 0.3404\n",
      "Epoch 6/50\n",
      "51/51 [==============================] - 76s 1s/step - loss: 1.7115 - accuracy: 0.3348\n",
      "Epoch 7/50\n",
      "51/51 [==============================] - 75s 1s/step - loss: 1.5964 - accuracy: 0.3981\n",
      "Epoch 8/50\n",
      "51/51 [==============================] - 76s 1s/step - loss: 1.5830 - accuracy: 0.4112\n",
      "Epoch 9/50\n",
      "51/51 [==============================] - 77s 1s/step - loss: 1.5727 - accuracy: 0.4019\n",
      "Epoch 10/50\n",
      "51/51 [==============================] - 76s 1s/step - loss: 1.4915 - accuracy: 0.4267\n",
      "Epoch 11/50\n",
      "51/51 [==============================] - 77s 1s/step - loss: 1.4635 - accuracy: 0.4547\n",
      "Epoch 12/50\n",
      "51/51 [==============================] - 75s 1s/step - loss: 1.4184 - accuracy: 0.4534\n",
      "Epoch 13/50\n",
      "51/51 [==============================] - 73s 1s/step - loss: 1.3851 - accuracy: 0.4602\n",
      "Epoch 14/50\n",
      "51/51 [==============================] - 74s 1s/step - loss: 1.3459 - accuracy: 0.4888\n",
      "Epoch 15/50\n",
      "51/51 [==============================] - 74s 1s/step - loss: 1.3779 - accuracy: 0.4863\n",
      "Epoch 16/50\n",
      "51/51 [==============================] - 74s 1s/step - loss: 1.3078 - accuracy: 0.5031\n",
      "Epoch 17/50\n",
      "51/51 [==============================] - 74s 1s/step - loss: 1.3036 - accuracy: 0.4981\n",
      "Epoch 18/50\n",
      "51/51 [==============================] - 74s 1s/step - loss: 1.2600 - accuracy: 0.5466\n",
      "Epoch 19/50\n",
      "51/51 [==============================] - 74s 1s/step - loss: 1.2039 - accuracy: 0.5398\n",
      "Epoch 20/50\n",
      "51/51 [==============================] - 74s 1s/step - loss: 1.1828 - accuracy: 0.5547\n",
      "Epoch 21/50\n",
      "51/51 [==============================] - 74s 1s/step - loss: 1.1685 - accuracy: 0.5671\n",
      "Epoch 22/50\n",
      "51/51 [==============================] - 76s 1s/step - loss: 1.1262 - accuracy: 0.5913\n",
      "Epoch 23/50\n",
      "51/51 [==============================] - 76s 1s/step - loss: 1.0984 - accuracy: 0.6081\n",
      "Epoch 24/50\n",
      "51/51 [==============================] - 76s 1s/step - loss: 1.1653 - accuracy: 0.5832\n",
      "Epoch 25/50\n",
      "51/51 [==============================] - 77s 2s/step - loss: 1.1476 - accuracy: 0.5907\n",
      "Epoch 26/50\n",
      "51/51 [==============================] - 76s 1s/step - loss: 1.0953 - accuracy: 0.6050\n",
      "Epoch 27/50\n",
      "51/51 [==============================] - 76s 1s/step - loss: 1.0561 - accuracy: 0.6199\n",
      "Epoch 28/50\n",
      "51/51 [==============================] - 76s 1s/step - loss: 1.0316 - accuracy: 0.6466\n",
      "Epoch 29/50\n",
      "51/51 [==============================] - 76s 1s/step - loss: 1.0627 - accuracy: 0.6280\n",
      "Epoch 30/50\n",
      "51/51 [==============================] - 76s 1s/step - loss: 1.0280 - accuracy: 0.6342\n",
      "Epoch 31/50\n",
      "51/51 [==============================] - 76s 1s/step - loss: 1.0391 - accuracy: 0.6248\n",
      "Epoch 32/50\n",
      "51/51 [==============================] - 76s 1s/step - loss: 1.0498 - accuracy: 0.6335\n",
      "Epoch 33/50\n",
      "51/51 [==============================] - 75s 1s/step - loss: 0.9670 - accuracy: 0.6509\n",
      "Epoch 34/50\n",
      "51/51 [==============================] - 76s 1s/step - loss: 0.9930 - accuracy: 0.6317\n",
      "Epoch 35/50\n",
      "51/51 [==============================] - 76s 1s/step - loss: 0.9309 - accuracy: 0.6665\n",
      "Epoch 36/50\n",
      "51/51 [==============================] - 77s 1s/step - loss: 0.9140 - accuracy: 0.6640\n",
      "Epoch 37/50\n",
      "51/51 [==============================] - 77s 2s/step - loss: 0.9028 - accuracy: 0.6658\n",
      "Epoch 38/50\n",
      "51/51 [==============================] - 78s 2s/step - loss: 0.8958 - accuracy: 0.6789\n",
      "Epoch 39/50\n",
      "51/51 [==============================] - 78s 2s/step - loss: 0.9434 - accuracy: 0.6646\n",
      "Epoch 40/50\n",
      "51/51 [==============================] - 78s 2s/step - loss: 0.9226 - accuracy: 0.6807\n",
      "Epoch 41/50\n",
      "51/51 [==============================] - 77s 2s/step - loss: 0.9375 - accuracy: 0.6627\n",
      "Epoch 42/50\n",
      "51/51 [==============================] - 77s 2s/step - loss: 0.8928 - accuracy: 0.6919\n",
      "Epoch 43/50\n",
      "51/51 [==============================] - 77s 2s/step - loss: 0.8665 - accuracy: 0.6820\n",
      "Epoch 44/50\n",
      "51/51 [==============================] - 78s 2s/step - loss: 0.9307 - accuracy: 0.6671\n",
      "Epoch 45/50\n",
      "51/51 [==============================] - 78s 2s/step - loss: 0.8926 - accuracy: 0.6777\n",
      "Epoch 46/50\n",
      "51/51 [==============================] - 77s 2s/step - loss: 0.8776 - accuracy: 0.6882\n",
      "Epoch 47/50\n",
      "51/51 [==============================] - 77s 2s/step - loss: 0.8558 - accuracy: 0.6925\n",
      "Epoch 48/50\n",
      "51/51 [==============================] - 77s 2s/step - loss: 0.8606 - accuracy: 0.6894\n",
      "Epoch 49/50\n",
      "51/51 [==============================] - 77s 2s/step - loss: 0.7730 - accuracy: 0.7255\n",
      "Epoch 50/50\n",
      "51/51 [==============================] - 77s 2s/step - loss: 0.8569 - accuracy: 0.7137\n"
     ]
    }
   ],
   "source": [
    "hist = model.fit(train_datagenerator, steps_per_epoch= train_datagenerator.samples // train_datagenerator.batch_size, epochs=50, verbose=1)"
   ]
  },
  {
   "cell_type": "code",
   "execution_count": 18,
   "metadata": {},
   "outputs": [],
   "source": [
    "model.save(\"poekdex.h5\")"
   ]
  },
  {
   "cell_type": "code",
   "execution_count": null,
   "metadata": {},
   "outputs": [],
   "source": [
    "test_path = \"./Test/images/\"\n",
    "\n",
    "validation_datagenerator = ImageDataGenerator(\n",
    "    rescale=1./255\n",
    ")\n",
    "\n",
    "validationgen = validation_datagenerator.flow_from_directory(\n",
    "    validationgen\n",
    ")"
   ]
  },
  {
   "cell_type": "code",
   "execution_count": 16,
   "metadata": {},
   "outputs": [
    {
     "name": "stdout",
     "output_type": "stream",
     "text": [
      "Gpu available : 0\n"
     ]
    }
   ],
   "source": [
    "import tensorflow as tf\n",
    "print(f\"Gpu available : {len(tf.config.experimental.list_physical_devices('GPU'))}\")"
   ]
  },
  {
   "cell_type": "code",
   "execution_count": 4,
   "metadata": {},
   "outputs": [],
   "source": [
    "model_ = keras.models.load_model('poekdex.h5')"
   ]
  },
  {
   "cell_type": "code",
   "execution_count": 5,
   "metadata": {},
   "outputs": [],
   "source": [
    "def image_processing(path):\n",
    "    img = image.load_img(path, target_size=(227,227))\n",
    "    img_arr = image.img_to_array(img)\n",
    "    img_arr = np.expand_dims(img_arr, axis=0)\n",
    "    img_arr = img_arr/225.0\n",
    "\n",
    "    return img_arr\n",
    "\n"
   ]
  },
  {
   "cell_type": "code",
   "execution_count": 6,
   "metadata": {},
   "outputs": [],
   "source": [
    "def predict(model, path, classlabel):\n",
    "    img_arr = image_processing(path)\n",
    "    predictions = model.predict(img_arr)\n",
    "    predicted_class = np.argmax(predictions, axis=1)[0]\n",
    "    return classlabel[predicted_class]\n",
    "\n",
    "classlabel = [\"Aerodactyl\",\"Bulbasaur\",\"Charmander\",\"Dratini\",\"Fearow\",\"Mewtwo\",\"Pikachu\",\"Psyduck\",\"Spearow\",\"Squirtle\"]"
   ]
  },
  {
   "cell_type": "code",
   "execution_count": 7,
   "metadata": {},
   "outputs": [
    {
     "name": "stdout",
     "output_type": "stream",
     "text": [
      "1/1 [==============================] - 0s 262ms/step\n"
     ]
    }
   ],
   "source": [
    "predicted_class = predict(model_, \"./Test/images/test_11.jpg\", classlabel)"
   ]
  },
  {
   "cell_type": "code",
   "execution_count": 8,
   "metadata": {},
   "outputs": [
    {
     "data": {
      "text/plain": [
       "'Bulbasaur'"
      ]
     },
     "execution_count": 8,
     "metadata": {},
     "output_type": "execute_result"
    }
   ],
   "source": [
    "predicted_class"
   ]
  },
  {
   "cell_type": "code",
   "execution_count": 9,
   "metadata": {},
   "outputs": [],
   "source": [
    "import os\n",
    "test_path = \"./Test/images/\"\n",
    "test_image_names = os.listdir(\"./Test/images/\")"
   ]
  },
  {
   "cell_type": "code",
   "execution_count": 10,
   "metadata": {},
   "outputs": [],
   "source": [
    "results = pd.DataFrame(columns=['Name','Class'])"
   ]
  },
  {
   "cell_type": "code",
   "execution_count": 11,
   "metadata": {},
   "outputs": [
    {
     "data": {
      "text/plain": [
       "'./Test/images/test_1.jpg'"
      ]
     },
     "execution_count": 11,
     "metadata": {},
     "output_type": "execute_result"
    }
   ],
   "source": [
    "test_path + test_image_names[1]"
   ]
  },
  {
   "cell_type": "code",
   "execution_count": 12,
   "metadata": {},
   "outputs": [],
   "source": [
    "class_label_dict =   {'Aerodactyl': 0, 'Bulbasaur': 1, 'Charmander': 2, 'Dratini': 3, 'Fearow': 4, 'Mewtwo': 5, 'Pikachu': 6, 'Psyduck': 7, 'Spearow': 8, 'Squirtle': 9}"
   ]
  },
  {
   "cell_type": "code",
   "execution_count": null,
   "metadata": {},
   "outputs": [],
   "source": []
  },
  {
   "cell_type": "code",
   "execution_count": 13,
   "metadata": {},
   "outputs": [
    {
     "data": {
      "text/plain": [
       "0"
      ]
     },
     "execution_count": 13,
     "metadata": {},
     "output_type": "execute_result"
    }
   ],
   "source": [
    "class_label_dict[\"Aerodactyl\"]"
   ]
  },
  {
   "cell_type": "code",
   "execution_count": 14,
   "metadata": {},
   "outputs": [
    {
     "name": "stdout",
     "output_type": "stream",
     "text": [
      "1/1 [==============================] - 0s 109ms/step\n",
      "1/1 [==============================] - 0s 50ms/step\n",
      "1/1 [==============================] - 0s 61ms/step\n",
      "1/1 [==============================] - 0s 68ms/step\n",
      "1/1 [==============================] - 0s 76ms/step\n",
      "1/1 [==============================] - 0s 68ms/step\n",
      "1/1 [==============================] - 0s 61ms/step\n",
      "1/1 [==============================] - 0s 55ms/step\n",
      "1/1 [==============================] - 0s 58ms/step\n",
      "1/1 [==============================] - 0s 62ms/step\n",
      "1/1 [==============================] - 0s 59ms/step\n",
      "1/1 [==============================] - 0s 59ms/step\n",
      "1/1 [==============================] - 0s 62ms/step\n",
      "1/1 [==============================] - 0s 67ms/step\n",
      "1/1 [==============================] - 0s 59ms/step\n",
      "1/1 [==============================] - 0s 64ms/step\n",
      "1/1 [==============================] - 0s 66ms/step\n",
      "1/1 [==============================] - 0s 71ms/step\n",
      "1/1 [==============================] - 0s 54ms/step\n",
      "1/1 [==============================] - 0s 64ms/step\n",
      "1/1 [==============================] - 0s 65ms/step\n",
      "1/1 [==============================] - 0s 48ms/step\n",
      "1/1 [==============================] - 0s 63ms/step\n",
      "1/1 [==============================] - 0s 62ms/step\n",
      "1/1 [==============================] - 0s 54ms/step\n",
      "1/1 [==============================] - 0s 40ms/step\n",
      "1/1 [==============================] - 0s 63ms/step\n",
      "1/1 [==============================] - 0s 66ms/step\n",
      "1/1 [==============================] - 0s 85ms/step\n",
      "1/1 [==============================] - 0s 62ms/step\n",
      "1/1 [==============================] - 0s 61ms/step\n",
      "1/1 [==============================] - 0s 55ms/step\n",
      "1/1 [==============================] - 0s 67ms/step\n",
      "1/1 [==============================] - 0s 60ms/step\n",
      "1/1 [==============================] - 0s 71ms/step\n",
      "1/1 [==============================] - 0s 74ms/step\n",
      "1/1 [==============================] - 0s 67ms/step\n",
      "1/1 [==============================] - 0s 56ms/step\n",
      "1/1 [==============================] - 0s 38ms/step\n",
      "1/1 [==============================] - 0s 49ms/step\n",
      "1/1 [==============================] - 0s 54ms/step\n",
      "1/1 [==============================] - 0s 54ms/step\n",
      "1/1 [==============================] - 0s 51ms/step\n",
      "1/1 [==============================] - 0s 50ms/step\n",
      "1/1 [==============================] - 0s 44ms/step\n",
      "1/1 [==============================] - 0s 66ms/step\n",
      "1/1 [==============================] - 0s 66ms/step\n",
      "1/1 [==============================] - 0s 57ms/step\n",
      "1/1 [==============================] - 0s 64ms/step\n",
      "1/1 [==============================] - 0s 74ms/step\n",
      "1/1 [==============================] - 0s 77ms/step\n",
      "1/1 [==============================] - 0s 70ms/step\n",
      "1/1 [==============================] - 0s 62ms/step\n",
      "1/1 [==============================] - 0s 51ms/step\n",
      "1/1 [==============================] - 0s 60ms/step\n",
      "1/1 [==============================] - 0s 87ms/step\n",
      "1/1 [==============================] - 0s 62ms/step\n",
      "1/1 [==============================] - 0s 76ms/step\n",
      "1/1 [==============================] - 0s 64ms/step\n",
      "1/1 [==============================] - 0s 87ms/step\n",
      "1/1 [==============================] - 0s 47ms/step\n",
      "1/1 [==============================] - 0s 65ms/step\n",
      "1/1 [==============================] - 0s 64ms/step\n",
      "1/1 [==============================] - 0s 51ms/step\n",
      "1/1 [==============================] - 0s 58ms/step\n",
      "1/1 [==============================] - 0s 60ms/step\n",
      "1/1 [==============================] - 0s 53ms/step\n",
      "1/1 [==============================] - 0s 63ms/step\n",
      "1/1 [==============================] - 0s 56ms/step\n",
      "1/1 [==============================] - 0s 59ms/step\n",
      "1/1 [==============================] - 0s 61ms/step\n",
      "1/1 [==============================] - 0s 70ms/step\n",
      "1/1 [==============================] - 0s 56ms/step\n",
      "1/1 [==============================] - 0s 51ms/step\n",
      "1/1 [==============================] - 0s 45ms/step\n",
      "1/1 [==============================] - 0s 47ms/step\n",
      "1/1 [==============================] - 0s 46ms/step\n",
      "1/1 [==============================] - 0s 65ms/step\n",
      "1/1 [==============================] - 0s 83ms/step\n",
      "1/1 [==============================] - 0s 69ms/step\n",
      "1/1 [==============================] - 0s 73ms/step\n",
      "1/1 [==============================] - 0s 69ms/step\n",
      "1/1 [==============================] - 0s 56ms/step\n",
      "1/1 [==============================] - 0s 63ms/step\n",
      "1/1 [==============================] - 0s 61ms/step\n",
      "1/1 [==============================] - 0s 54ms/step\n",
      "1/1 [==============================] - 0s 44ms/step\n",
      "1/1 [==============================] - 0s 73ms/step\n",
      "1/1 [==============================] - 0s 69ms/step\n",
      "1/1 [==============================] - 0s 71ms/step\n",
      "1/1 [==============================] - 0s 65ms/step\n",
      "1/1 [==============================] - 0s 63ms/step\n",
      "1/1 [==============================] - 0s 63ms/step\n",
      "1/1 [==============================] - 0s 86ms/step\n",
      "1/1 [==============================] - 0s 64ms/step\n",
      "1/1 [==============================] - 0s 74ms/step\n",
      "1/1 [==============================] - 0s 68ms/step\n",
      "1/1 [==============================] - 0s 49ms/step\n",
      "1/1 [==============================] - 0s 63ms/step\n",
      "1/1 [==============================] - 0s 63ms/step\n",
      "1/1 [==============================] - 0s 55ms/step\n",
      "1/1 [==============================] - 0s 72ms/step\n",
      "1/1 [==============================] - 0s 79ms/step\n",
      "1/1 [==============================] - 0s 52ms/step\n",
      "1/1 [==============================] - 0s 67ms/step\n",
      "1/1 [==============================] - 0s 70ms/step\n",
      "1/1 [==============================] - 0s 63ms/step\n",
      "1/1 [==============================] - 0s 95ms/step\n",
      "1/1 [==============================] - 0s 83ms/step\n",
      "1/1 [==============================] - 0s 53ms/step\n",
      "1/1 [==============================] - 0s 67ms/step\n",
      "1/1 [==============================] - 0s 80ms/step\n",
      "1/1 [==============================] - 0s 73ms/step\n",
      "1/1 [==============================] - 0s 75ms/step\n",
      "1/1 [==============================] - 0s 69ms/step\n",
      "1/1 [==============================] - 0s 53ms/step\n",
      "1/1 [==============================] - 0s 66ms/step\n",
      "1/1 [==============================] - 0s 73ms/step\n",
      "1/1 [==============================] - 0s 71ms/step\n",
      "1/1 [==============================] - 0s 69ms/step\n",
      "1/1 [==============================] - 0s 62ms/step\n",
      "1/1 [==============================] - 0s 61ms/step\n",
      "1/1 [==============================] - 0s 92ms/step\n",
      "1/1 [==============================] - 0s 75ms/step\n",
      "1/1 [==============================] - 0s 72ms/step\n",
      "1/1 [==============================] - 0s 73ms/step\n",
      "1/1 [==============================] - 0s 75ms/step\n",
      "1/1 [==============================] - 0s 72ms/step\n",
      "1/1 [==============================] - 0s 48ms/step\n",
      "1/1 [==============================] - 0s 64ms/step\n",
      "1/1 [==============================] - 0s 62ms/step\n",
      "1/1 [==============================] - 0s 79ms/step\n",
      "1/1 [==============================] - 0s 71ms/step\n",
      "1/1 [==============================] - 0s 70ms/step\n",
      "1/1 [==============================] - 0s 72ms/step\n",
      "1/1 [==============================] - 0s 64ms/step\n",
      "1/1 [==============================] - 0s 71ms/step\n",
      "1/1 [==============================] - 0s 72ms/step\n",
      "1/1 [==============================] - 0s 47ms/step\n",
      "1/1 [==============================] - 0s 68ms/step\n",
      "1/1 [==============================] - 0s 67ms/step\n",
      "1/1 [==============================] - 0s 73ms/step\n",
      "1/1 [==============================] - 0s 47ms/step\n",
      "1/1 [==============================] - 0s 53ms/step\n",
      "1/1 [==============================] - 0s 61ms/step\n",
      "1/1 [==============================] - 0s 57ms/step\n",
      "1/1 [==============================] - 0s 77ms/step\n",
      "1/1 [==============================] - 0s 69ms/step\n",
      "1/1 [==============================] - 0s 73ms/step\n",
      "1/1 [==============================] - 0s 70ms/step\n",
      "1/1 [==============================] - 0s 73ms/step\n",
      "1/1 [==============================] - 0s 60ms/step\n",
      "1/1 [==============================] - 0s 76ms/step\n",
      "1/1 [==============================] - 0s 50ms/step\n",
      "1/1 [==============================] - 0s 61ms/step\n",
      "1/1 [==============================] - 0s 88ms/step\n",
      "1/1 [==============================] - 0s 89ms/step\n",
      "1/1 [==============================] - 0s 67ms/step\n",
      "1/1 [==============================] - 0s 58ms/step\n",
      "1/1 [==============================] - 0s 78ms/step\n",
      "1/1 [==============================] - 0s 70ms/step\n",
      "1/1 [==============================] - 0s 62ms/step\n",
      "1/1 [==============================] - 0s 58ms/step\n",
      "1/1 [==============================] - 0s 61ms/step\n",
      "1/1 [==============================] - 0s 65ms/step\n",
      "1/1 [==============================] - 0s 68ms/step\n",
      "1/1 [==============================] - 0s 63ms/step\n",
      "1/1 [==============================] - 0s 47ms/step\n",
      "1/1 [==============================] - 0s 61ms/step\n",
      "1/1 [==============================] - 0s 63ms/step\n",
      "1/1 [==============================] - 0s 68ms/step\n",
      "1/1 [==============================] - 0s 64ms/step\n",
      "1/1 [==============================] - 0s 68ms/step\n",
      "1/1 [==============================] - 0s 80ms/step\n",
      "1/1 [==============================] - 0s 66ms/step\n",
      "1/1 [==============================] - 0s 63ms/step\n",
      "1/1 [==============================] - 0s 66ms/step\n",
      "1/1 [==============================] - 0s 87ms/step\n",
      "1/1 [==============================] - 0s 63ms/step\n",
      "1/1 [==============================] - 0s 79ms/step\n",
      "1/1 [==============================] - 0s 57ms/step\n",
      "1/1 [==============================] - 0s 47ms/step\n",
      "1/1 [==============================] - 0s 64ms/step\n",
      "1/1 [==============================] - 0s 54ms/step\n",
      "1/1 [==============================] - 0s 56ms/step\n",
      "1/1 [==============================] - 0s 71ms/step\n",
      "1/1 [==============================] - 0s 80ms/step\n"
     ]
    }
   ],
   "source": [
    "for i in test_image_names:\n",
    "    predicted_class = predict(model_, test_path + i, classlabel)\n",
    "    results = results._append({'Name' : i, 'Class':class_label_dict[predicted_class] }, ignore_index=True)"
   ]
  },
  {
   "cell_type": "code",
   "execution_count": 15,
   "metadata": {},
   "outputs": [],
   "source": [
    "results.to_csv('results2.csv', index=False)"
   ]
  },
  {
   "cell_type": "code",
   "execution_count": null,
   "metadata": {},
   "outputs": [],
   "source": []
  }
 ],
 "metadata": {
  "kernelspec": {
   "display_name": "Python 3",
   "language": "python",
   "name": "python3"
  },
  "language_info": {
   "codemirror_mode": {
    "name": "ipython",
    "version": 3
   },
   "file_extension": ".py",
   "mimetype": "text/x-python",
   "name": "python",
   "nbconvert_exporter": "python",
   "pygments_lexer": "ipython3",
   "version": "3.10.11"
  }
 },
 "nbformat": 4,
 "nbformat_minor": 2
}
